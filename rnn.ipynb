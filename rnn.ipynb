{
  "nbformat": 4,
  "nbformat_minor": 0,
  "metadata": {
    "colab": {
      "name": "rnn.ipynb",
      "provenance": [],
      "collapsed_sections": [],
      "include_colab_link": true
    },
    "kernelspec": {
      "name": "python3",
      "display_name": "Python 3"
    },
    "language_info": {
      "name": "python"
    }
  },
  "cells": [
    {
      "cell_type": "markdown",
      "metadata": {
        "id": "view-in-github",
        "colab_type": "text"
      },
      "source": [
        "<a href=\"https://colab.research.google.com/github/MB2407/A-to-Z-Resources-for-Students/blob/master/rnn.ipynb\" target=\"_parent\"><img src=\"https://colab.research.google.com/assets/colab-badge.svg\" alt=\"Open In Colab\"/></a>"
      ]
    },
    {
      "cell_type": "code",
      "execution_count": null,
      "metadata": {
        "id": "nr-TS4NyFw2f"
      },
      "outputs": [],
      "source": [
        "import numpy as np\n",
        "import pandas as pd\n",
        "import matplotlib.pyplot as plt\n",
        "from sklearn.preprocessing import MinMaxScaler\n",
        "from keras.models import Sequential, load_model\n",
        "from keras.layers import LSTM, Dense, Dropout\n",
        "import os\n",
        "import io"
      ]
    },
    {
      "cell_type": "code",
      "source": [
        "from google.colab import files\n",
        "\n",
        "uploaded = files.upload()"
      ],
      "metadata": {
        "colab": {
          "resources": {
            "http://localhost:8080/nbextensions/google.colab/files.js": {
              "data": "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",
              "ok": true,
              "headers": [
                [
                  "content-type",
                  "application/javascript"
                ]
              ],
              "status": 200,
              "status_text": ""
            }
          },
          "base_uri": "https://localhost:8080/",
          "height": 72
        },
        "id": "wF6qix2bF5Ti",
        "outputId": "d8725679-c2e8-4c54-e8c1-1b4080cd3371"
      },
      "execution_count": null,
      "outputs": [
        {
          "output_type": "display_data",
          "data": {
            "text/plain": [
              "<IPython.core.display.HTML object>"
            ],
            "text/html": [
              "\n",
              "     <input type=\"file\" id=\"files-d2aefc04-6610-450c-ab93-f0033764136e\" name=\"files[]\" multiple disabled\n",
              "        style=\"border:none\" />\n",
              "     <output id=\"result-d2aefc04-6610-450c-ab93-f0033764136e\">\n",
              "      Upload widget is only available when the cell has been executed in the\n",
              "      current browser session. Please rerun this cell to enable.\n",
              "      </output>\n",
              "      <script src=\"/nbextensions/google.colab/files.js\"></script> "
            ]
          },
          "metadata": {}
        },
        {
          "output_type": "stream",
          "name": "stdout",
          "text": [
            "Saving ASIAN-PAINTS.csv to ASIAN-PAINTS.csv\n"
          ]
        }
      ]
    },
    {
      "cell_type": "code",
      "source": [
        "df = pd.read_csv(io.BytesIO(uploaded['ASIAN-PAINTS.csv']))\n",
        "df.rename(columns={'Date': 'date', 'Open Price': 'open', 'High Price': 'high', 'Low Price': 'low', 'Close Price': 'close', 'WAP': 'wap', 'No.of Shares' : 'shares', 'No. of Trades' : 'trades', 'Total Turnover (Rs.)' : 'turnover', 'Deliverable Quantity' : 'deliQty', '% Deli. Qty to Traded Qty' : 'deliQtyToTradedQty', 'Spread High-Low' : 'highLowSpread', 'Spread Close-Open' : 'closeOpenSpread'}, inplace = True)"
      ],
      "metadata": {
        "id": "R754E9WcGH8U"
      },
      "execution_count": null,
      "outputs": []
    },
    {
      "cell_type": "code",
      "source": [
        "df.info()"
      ],
      "metadata": {
        "colab": {
          "base_uri": "https://localhost:8080/"
        },
        "id": "IyfT-3H5GKuZ",
        "outputId": "4a2df910-178e-4884-a60f-20e905a8646f"
      },
      "execution_count": null,
      "outputs": [
        {
          "output_type": "stream",
          "name": "stdout",
          "text": [
            "<class 'pandas.core.frame.DataFrame'>\n",
            "RangeIndex: 1976 entries, 0 to 1975\n",
            "Data columns (total 13 columns):\n",
            " #   Column              Non-Null Count  Dtype  \n",
            "---  ------              --------------  -----  \n",
            " 0   date                1976 non-null   object \n",
            " 1   open                1976 non-null   float64\n",
            " 2   high                1976 non-null   float64\n",
            " 3   low                 1976 non-null   float64\n",
            " 4   close               1976 non-null   float64\n",
            " 5   wap                 1976 non-null   float64\n",
            " 6   shares              1976 non-null   int64  \n",
            " 7   trades              1976 non-null   int64  \n",
            " 8   turnover            1976 non-null   float64\n",
            " 9   deliQty             1974 non-null   float64\n",
            " 10  deliQtyToTradedQty  1974 non-null   float64\n",
            " 11  highLowSpread       1976 non-null   float64\n",
            " 12  closeOpenSpread     1976 non-null   float64\n",
            "dtypes: float64(10), int64(2), object(1)\n",
            "memory usage: 200.8+ KB\n"
          ]
        }
      ]
    },
    {
      "cell_type": "code",
      "source": [
        "df.head()"
      ],
      "metadata": {
        "colab": {
          "base_uri": "https://localhost:8080/",
          "height": 206
        },
        "id": "km8LaGoxYPmW",
        "outputId": "2ed894f4-4176-42a5-d7fe-dbff940aade3"
      },
      "execution_count": null,
      "outputs": [
        {
          "output_type": "execute_result",
          "data": {
            "text/plain": [
              "           date     open     high      low    close          wap  shares  \\\n",
              "0  8-April-2022  3172.85  3219.00  3150.70  3206.70  3190.305220   63125   \n",
              "1  7-April-2022  3145.40  3208.95  3145.40  3155.30  3174.126443  113031   \n",
              "2  6-April-2022  3139.60  3165.00  3112.55  3155.05  3144.289330   47496   \n",
              "3  5-April-2022  3116.00  3157.25  3080.80  3139.60  3140.860434   48658   \n",
              "4  4-April-2022  3147.00  3147.00  3092.60  3117.65  3118.713192   60368   \n",
              "\n",
              "   trades     turnover  deliQty  deliQtyToTradedQty  highLowSpread  \\\n",
              "0    8976  201388017.0  34502.0               54.66          68.30   \n",
              "1   10464  358774686.0  55258.0               48.89          63.55   \n",
              "2    4958  149341166.0  25788.0               54.30          52.45   \n",
              "3    3918  152827987.0  29864.0               61.38          76.45   \n",
              "4   10156  188270478.0  34489.0               57.13          54.40   \n",
              "\n",
              "   closeOpenSpread  \n",
              "0            33.85  \n",
              "1             9.90  \n",
              "2            15.45  \n",
              "3            23.60  \n",
              "4           -29.35  "
            ],
            "text/html": [
              "\n",
              "  <div id=\"df-2fa83382-c9ff-4f6e-817c-6f1fc8d600f8\">\n",
              "    <div class=\"colab-df-container\">\n",
              "      <div>\n",
              "<style scoped>\n",
              "    .dataframe tbody tr th:only-of-type {\n",
              "        vertical-align: middle;\n",
              "    }\n",
              "\n",
              "    .dataframe tbody tr th {\n",
              "        vertical-align: top;\n",
              "    }\n",
              "\n",
              "    .dataframe thead th {\n",
              "        text-align: right;\n",
              "    }\n",
              "</style>\n",
              "<table border=\"1\" class=\"dataframe\">\n",
              "  <thead>\n",
              "    <tr style=\"text-align: right;\">\n",
              "      <th></th>\n",
              "      <th>date</th>\n",
              "      <th>open</th>\n",
              "      <th>high</th>\n",
              "      <th>low</th>\n",
              "      <th>close</th>\n",
              "      <th>wap</th>\n",
              "      <th>shares</th>\n",
              "      <th>trades</th>\n",
              "      <th>turnover</th>\n",
              "      <th>deliQty</th>\n",
              "      <th>deliQtyToTradedQty</th>\n",
              "      <th>highLowSpread</th>\n",
              "      <th>closeOpenSpread</th>\n",
              "    </tr>\n",
              "  </thead>\n",
              "  <tbody>\n",
              "    <tr>\n",
              "      <th>0</th>\n",
              "      <td>8-April-2022</td>\n",
              "      <td>3172.85</td>\n",
              "      <td>3219.00</td>\n",
              "      <td>3150.70</td>\n",
              "      <td>3206.70</td>\n",
              "      <td>3190.305220</td>\n",
              "      <td>63125</td>\n",
              "      <td>8976</td>\n",
              "      <td>201388017.0</td>\n",
              "      <td>34502.0</td>\n",
              "      <td>54.66</td>\n",
              "      <td>68.30</td>\n",
              "      <td>33.85</td>\n",
              "    </tr>\n",
              "    <tr>\n",
              "      <th>1</th>\n",
              "      <td>7-April-2022</td>\n",
              "      <td>3145.40</td>\n",
              "      <td>3208.95</td>\n",
              "      <td>3145.40</td>\n",
              "      <td>3155.30</td>\n",
              "      <td>3174.126443</td>\n",
              "      <td>113031</td>\n",
              "      <td>10464</td>\n",
              "      <td>358774686.0</td>\n",
              "      <td>55258.0</td>\n",
              "      <td>48.89</td>\n",
              "      <td>63.55</td>\n",
              "      <td>9.90</td>\n",
              "    </tr>\n",
              "    <tr>\n",
              "      <th>2</th>\n",
              "      <td>6-April-2022</td>\n",
              "      <td>3139.60</td>\n",
              "      <td>3165.00</td>\n",
              "      <td>3112.55</td>\n",
              "      <td>3155.05</td>\n",
              "      <td>3144.289330</td>\n",
              "      <td>47496</td>\n",
              "      <td>4958</td>\n",
              "      <td>149341166.0</td>\n",
              "      <td>25788.0</td>\n",
              "      <td>54.30</td>\n",
              "      <td>52.45</td>\n",
              "      <td>15.45</td>\n",
              "    </tr>\n",
              "    <tr>\n",
              "      <th>3</th>\n",
              "      <td>5-April-2022</td>\n",
              "      <td>3116.00</td>\n",
              "      <td>3157.25</td>\n",
              "      <td>3080.80</td>\n",
              "      <td>3139.60</td>\n",
              "      <td>3140.860434</td>\n",
              "      <td>48658</td>\n",
              "      <td>3918</td>\n",
              "      <td>152827987.0</td>\n",
              "      <td>29864.0</td>\n",
              "      <td>61.38</td>\n",
              "      <td>76.45</td>\n",
              "      <td>23.60</td>\n",
              "    </tr>\n",
              "    <tr>\n",
              "      <th>4</th>\n",
              "      <td>4-April-2022</td>\n",
              "      <td>3147.00</td>\n",
              "      <td>3147.00</td>\n",
              "      <td>3092.60</td>\n",
              "      <td>3117.65</td>\n",
              "      <td>3118.713192</td>\n",
              "      <td>60368</td>\n",
              "      <td>10156</td>\n",
              "      <td>188270478.0</td>\n",
              "      <td>34489.0</td>\n",
              "      <td>57.13</td>\n",
              "      <td>54.40</td>\n",
              "      <td>-29.35</td>\n",
              "    </tr>\n",
              "  </tbody>\n",
              "</table>\n",
              "</div>\n",
              "      <button class=\"colab-df-convert\" onclick=\"convertToInteractive('df-2fa83382-c9ff-4f6e-817c-6f1fc8d600f8')\"\n",
              "              title=\"Convert this dataframe to an interactive table.\"\n",
              "              style=\"display:none;\">\n",
              "        \n",
              "  <svg xmlns=\"http://www.w3.org/2000/svg\" height=\"24px\"viewBox=\"0 0 24 24\"\n",
              "       width=\"24px\">\n",
              "    <path d=\"M0 0h24v24H0V0z\" fill=\"none\"/>\n",
              "    <path d=\"M18.56 5.44l.94 2.06.94-2.06 2.06-.94-2.06-.94-.94-2.06-.94 2.06-2.06.94zm-11 1L8.5 8.5l.94-2.06 2.06-.94-2.06-.94L8.5 2.5l-.94 2.06-2.06.94zm10 10l.94 2.06.94-2.06 2.06-.94-2.06-.94-.94-2.06-.94 2.06-2.06.94z\"/><path d=\"M17.41 7.96l-1.37-1.37c-.4-.4-.92-.59-1.43-.59-.52 0-1.04.2-1.43.59L10.3 9.45l-7.72 7.72c-.78.78-.78 2.05 0 2.83L4 21.41c.39.39.9.59 1.41.59.51 0 1.02-.2 1.41-.59l7.78-7.78 2.81-2.81c.8-.78.8-2.07 0-2.86zM5.41 20L4 18.59l7.72-7.72 1.47 1.35L5.41 20z\"/>\n",
              "  </svg>\n",
              "      </button>\n",
              "      \n",
              "  <style>\n",
              "    .colab-df-container {\n",
              "      display:flex;\n",
              "      flex-wrap:wrap;\n",
              "      gap: 12px;\n",
              "    }\n",
              "\n",
              "    .colab-df-convert {\n",
              "      background-color: #E8F0FE;\n",
              "      border: none;\n",
              "      border-radius: 50%;\n",
              "      cursor: pointer;\n",
              "      display: none;\n",
              "      fill: #1967D2;\n",
              "      height: 32px;\n",
              "      padding: 0 0 0 0;\n",
              "      width: 32px;\n",
              "    }\n",
              "\n",
              "    .colab-df-convert:hover {\n",
              "      background-color: #E2EBFA;\n",
              "      box-shadow: 0px 1px 2px rgba(60, 64, 67, 0.3), 0px 1px 3px 1px rgba(60, 64, 67, 0.15);\n",
              "      fill: #174EA6;\n",
              "    }\n",
              "\n",
              "    [theme=dark] .colab-df-convert {\n",
              "      background-color: #3B4455;\n",
              "      fill: #D2E3FC;\n",
              "    }\n",
              "\n",
              "    [theme=dark] .colab-df-convert:hover {\n",
              "      background-color: #434B5C;\n",
              "      box-shadow: 0px 1px 3px 1px rgba(0, 0, 0, 0.15);\n",
              "      filter: drop-shadow(0px 1px 2px rgba(0, 0, 0, 0.3));\n",
              "      fill: #FFFFFF;\n",
              "    }\n",
              "  </style>\n",
              "\n",
              "      <script>\n",
              "        const buttonEl =\n",
              "          document.querySelector('#df-2fa83382-c9ff-4f6e-817c-6f1fc8d600f8 button.colab-df-convert');\n",
              "        buttonEl.style.display =\n",
              "          google.colab.kernel.accessAllowed ? 'block' : 'none';\n",
              "\n",
              "        async function convertToInteractive(key) {\n",
              "          const element = document.querySelector('#df-2fa83382-c9ff-4f6e-817c-6f1fc8d600f8');\n",
              "          const dataTable =\n",
              "            await google.colab.kernel.invokeFunction('convertToInteractive',\n",
              "                                                     [key], {});\n",
              "          if (!dataTable) return;\n",
              "\n",
              "          const docLinkHtml = 'Like what you see? Visit the ' +\n",
              "            '<a target=\"_blank\" href=https://colab.research.google.com/notebooks/data_table.ipynb>data table notebook</a>'\n",
              "            + ' to learn more about interactive tables.';\n",
              "          element.innerHTML = '';\n",
              "          dataTable['output_type'] = 'display_data';\n",
              "          await google.colab.output.renderOutput(dataTable, element);\n",
              "          const docLink = document.createElement('div');\n",
              "          docLink.innerHTML = docLinkHtml;\n",
              "          element.appendChild(docLink);\n",
              "        }\n",
              "      </script>\n",
              "    </div>\n",
              "  </div>\n",
              "  "
            ]
          },
          "metadata": {},
          "execution_count": 5
        }
      ]
    },
    {
      "cell_type": "code",
      "source": [
        "df.describe()"
      ],
      "metadata": {
        "colab": {
          "base_uri": "https://localhost:8080/",
          "height": 300
        },
        "id": "iKxvpcstTwIY",
        "outputId": "0ad6519a-eeef-4d81-df25-ac1cd3d2a845"
      },
      "execution_count": null,
      "outputs": [
        {
          "output_type": "execute_result",
          "data": {
            "text/plain": [
              "              open         high          low        close          wap  \\\n",
              "count  1976.000000  1976.000000  1976.000000  1976.000000  1976.000000   \n",
              "mean   1481.883806  1498.359211  1462.986361  1480.261032  1480.192215   \n",
              "std     761.744792   770.282498   752.338117   761.554625   760.818664   \n",
              "min     501.000000   504.800000   495.150000   498.300000   501.608560   \n",
              "25%     886.937500   896.937500   877.500000   887.237500   886.595354   \n",
              "50%    1205.500000  1219.375000  1188.500000  1202.625000  1204.352070   \n",
              "75%    1781.250000  1800.000000  1757.362500  1778.337500  1779.260632   \n",
              "max    3580.000000  3588.050000  3534.000000  3574.650000  3556.794739   \n",
              "\n",
              "             shares        trades      turnover       deliQty  \\\n",
              "count  1.976000e+03   1976.000000  1.976000e+03  1.974000e+03   \n",
              "mean   1.017347e+05   4260.523279  1.464613e+08  4.323471e+04   \n",
              "std    1.419901e+05   4001.710850  2.778673e+08  9.477701e+04   \n",
              "min    6.091000e+03    340.000000  7.600542e+06  2.307000e+03   \n",
              "25%    4.347275e+04   1974.500000  5.567626e+07  1.186750e+04   \n",
              "50%    6.896750e+04   3126.000000  8.690495e+07  2.009700e+04   \n",
              "75%    1.104602e+05   5116.250000  1.503766e+08  3.874425e+04   \n",
              "max    3.597728e+06  52064.000000  6.694289e+09  1.606401e+06   \n",
              "\n",
              "       deliQtyToTradedQty  highLowSpread  closeOpenSpread  \n",
              "count         1974.000000    1976.000000      1976.000000  \n",
              "mean            35.389732      35.372849        -1.622773  \n",
              "std             16.837245      28.550545        27.479013  \n",
              "min              0.600000       4.350000      -186.450000  \n",
              "25%             23.680000      17.837500       -13.650000  \n",
              "50%             31.200000      26.050000        -1.725000  \n",
              "75%             42.682500      43.475000         8.837500  \n",
              "max             97.980000     275.400000       167.200000  "
            ],
            "text/html": [
              "\n",
              "  <div id=\"df-0ec0a30e-7eb8-4641-9bff-6191bd42820d\">\n",
              "    <div class=\"colab-df-container\">\n",
              "      <div>\n",
              "<style scoped>\n",
              "    .dataframe tbody tr th:only-of-type {\n",
              "        vertical-align: middle;\n",
              "    }\n",
              "\n",
              "    .dataframe tbody tr th {\n",
              "        vertical-align: top;\n",
              "    }\n",
              "\n",
              "    .dataframe thead th {\n",
              "        text-align: right;\n",
              "    }\n",
              "</style>\n",
              "<table border=\"1\" class=\"dataframe\">\n",
              "  <thead>\n",
              "    <tr style=\"text-align: right;\">\n",
              "      <th></th>\n",
              "      <th>open</th>\n",
              "      <th>high</th>\n",
              "      <th>low</th>\n",
              "      <th>close</th>\n",
              "      <th>wap</th>\n",
              "      <th>shares</th>\n",
              "      <th>trades</th>\n",
              "      <th>turnover</th>\n",
              "      <th>deliQty</th>\n",
              "      <th>deliQtyToTradedQty</th>\n",
              "      <th>highLowSpread</th>\n",
              "      <th>closeOpenSpread</th>\n",
              "    </tr>\n",
              "  </thead>\n",
              "  <tbody>\n",
              "    <tr>\n",
              "      <th>count</th>\n",
              "      <td>1976.000000</td>\n",
              "      <td>1976.000000</td>\n",
              "      <td>1976.000000</td>\n",
              "      <td>1976.000000</td>\n",
              "      <td>1976.000000</td>\n",
              "      <td>1.976000e+03</td>\n",
              "      <td>1976.000000</td>\n",
              "      <td>1.976000e+03</td>\n",
              "      <td>1.974000e+03</td>\n",
              "      <td>1974.000000</td>\n",
              "      <td>1976.000000</td>\n",
              "      <td>1976.000000</td>\n",
              "    </tr>\n",
              "    <tr>\n",
              "      <th>mean</th>\n",
              "      <td>1481.883806</td>\n",
              "      <td>1498.359211</td>\n",
              "      <td>1462.986361</td>\n",
              "      <td>1480.261032</td>\n",
              "      <td>1480.192215</td>\n",
              "      <td>1.017347e+05</td>\n",
              "      <td>4260.523279</td>\n",
              "      <td>1.464613e+08</td>\n",
              "      <td>4.323471e+04</td>\n",
              "      <td>35.389732</td>\n",
              "      <td>35.372849</td>\n",
              "      <td>-1.622773</td>\n",
              "    </tr>\n",
              "    <tr>\n",
              "      <th>std</th>\n",
              "      <td>761.744792</td>\n",
              "      <td>770.282498</td>\n",
              "      <td>752.338117</td>\n",
              "      <td>761.554625</td>\n",
              "      <td>760.818664</td>\n",
              "      <td>1.419901e+05</td>\n",
              "      <td>4001.710850</td>\n",
              "      <td>2.778673e+08</td>\n",
              "      <td>9.477701e+04</td>\n",
              "      <td>16.837245</td>\n",
              "      <td>28.550545</td>\n",
              "      <td>27.479013</td>\n",
              "    </tr>\n",
              "    <tr>\n",
              "      <th>min</th>\n",
              "      <td>501.000000</td>\n",
              "      <td>504.800000</td>\n",
              "      <td>495.150000</td>\n",
              "      <td>498.300000</td>\n",
              "      <td>501.608560</td>\n",
              "      <td>6.091000e+03</td>\n",
              "      <td>340.000000</td>\n",
              "      <td>7.600542e+06</td>\n",
              "      <td>2.307000e+03</td>\n",
              "      <td>0.600000</td>\n",
              "      <td>4.350000</td>\n",
              "      <td>-186.450000</td>\n",
              "    </tr>\n",
              "    <tr>\n",
              "      <th>25%</th>\n",
              "      <td>886.937500</td>\n",
              "      <td>896.937500</td>\n",
              "      <td>877.500000</td>\n",
              "      <td>887.237500</td>\n",
              "      <td>886.595354</td>\n",
              "      <td>4.347275e+04</td>\n",
              "      <td>1974.500000</td>\n",
              "      <td>5.567626e+07</td>\n",
              "      <td>1.186750e+04</td>\n",
              "      <td>23.680000</td>\n",
              "      <td>17.837500</td>\n",
              "      <td>-13.650000</td>\n",
              "    </tr>\n",
              "    <tr>\n",
              "      <th>50%</th>\n",
              "      <td>1205.500000</td>\n",
              "      <td>1219.375000</td>\n",
              "      <td>1188.500000</td>\n",
              "      <td>1202.625000</td>\n",
              "      <td>1204.352070</td>\n",
              "      <td>6.896750e+04</td>\n",
              "      <td>3126.000000</td>\n",
              "      <td>8.690495e+07</td>\n",
              "      <td>2.009700e+04</td>\n",
              "      <td>31.200000</td>\n",
              "      <td>26.050000</td>\n",
              "      <td>-1.725000</td>\n",
              "    </tr>\n",
              "    <tr>\n",
              "      <th>75%</th>\n",
              "      <td>1781.250000</td>\n",
              "      <td>1800.000000</td>\n",
              "      <td>1757.362500</td>\n",
              "      <td>1778.337500</td>\n",
              "      <td>1779.260632</td>\n",
              "      <td>1.104602e+05</td>\n",
              "      <td>5116.250000</td>\n",
              "      <td>1.503766e+08</td>\n",
              "      <td>3.874425e+04</td>\n",
              "      <td>42.682500</td>\n",
              "      <td>43.475000</td>\n",
              "      <td>8.837500</td>\n",
              "    </tr>\n",
              "    <tr>\n",
              "      <th>max</th>\n",
              "      <td>3580.000000</td>\n",
              "      <td>3588.050000</td>\n",
              "      <td>3534.000000</td>\n",
              "      <td>3574.650000</td>\n",
              "      <td>3556.794739</td>\n",
              "      <td>3.597728e+06</td>\n",
              "      <td>52064.000000</td>\n",
              "      <td>6.694289e+09</td>\n",
              "      <td>1.606401e+06</td>\n",
              "      <td>97.980000</td>\n",
              "      <td>275.400000</td>\n",
              "      <td>167.200000</td>\n",
              "    </tr>\n",
              "  </tbody>\n",
              "</table>\n",
              "</div>\n",
              "      <button class=\"colab-df-convert\" onclick=\"convertToInteractive('df-0ec0a30e-7eb8-4641-9bff-6191bd42820d')\"\n",
              "              title=\"Convert this dataframe to an interactive table.\"\n",
              "              style=\"display:none;\">\n",
              "        \n",
              "  <svg xmlns=\"http://www.w3.org/2000/svg\" height=\"24px\"viewBox=\"0 0 24 24\"\n",
              "       width=\"24px\">\n",
              "    <path d=\"M0 0h24v24H0V0z\" fill=\"none\"/>\n",
              "    <path d=\"M18.56 5.44l.94 2.06.94-2.06 2.06-.94-2.06-.94-.94-2.06-.94 2.06-2.06.94zm-11 1L8.5 8.5l.94-2.06 2.06-.94-2.06-.94L8.5 2.5l-.94 2.06-2.06.94zm10 10l.94 2.06.94-2.06 2.06-.94-2.06-.94-.94-2.06-.94 2.06-2.06.94z\"/><path d=\"M17.41 7.96l-1.37-1.37c-.4-.4-.92-.59-1.43-.59-.52 0-1.04.2-1.43.59L10.3 9.45l-7.72 7.72c-.78.78-.78 2.05 0 2.83L4 21.41c.39.39.9.59 1.41.59.51 0 1.02-.2 1.41-.59l7.78-7.78 2.81-2.81c.8-.78.8-2.07 0-2.86zM5.41 20L4 18.59l7.72-7.72 1.47 1.35L5.41 20z\"/>\n",
              "  </svg>\n",
              "      </button>\n",
              "      \n",
              "  <style>\n",
              "    .colab-df-container {\n",
              "      display:flex;\n",
              "      flex-wrap:wrap;\n",
              "      gap: 12px;\n",
              "    }\n",
              "\n",
              "    .colab-df-convert {\n",
              "      background-color: #E8F0FE;\n",
              "      border: none;\n",
              "      border-radius: 50%;\n",
              "      cursor: pointer;\n",
              "      display: none;\n",
              "      fill: #1967D2;\n",
              "      height: 32px;\n",
              "      padding: 0 0 0 0;\n",
              "      width: 32px;\n",
              "    }\n",
              "\n",
              "    .colab-df-convert:hover {\n",
              "      background-color: #E2EBFA;\n",
              "      box-shadow: 0px 1px 2px rgba(60, 64, 67, 0.3), 0px 1px 3px 1px rgba(60, 64, 67, 0.15);\n",
              "      fill: #174EA6;\n",
              "    }\n",
              "\n",
              "    [theme=dark] .colab-df-convert {\n",
              "      background-color: #3B4455;\n",
              "      fill: #D2E3FC;\n",
              "    }\n",
              "\n",
              "    [theme=dark] .colab-df-convert:hover {\n",
              "      background-color: #434B5C;\n",
              "      box-shadow: 0px 1px 3px 1px rgba(0, 0, 0, 0.15);\n",
              "      filter: drop-shadow(0px 1px 2px rgba(0, 0, 0, 0.3));\n",
              "      fill: #FFFFFF;\n",
              "    }\n",
              "  </style>\n",
              "\n",
              "      <script>\n",
              "        const buttonEl =\n",
              "          document.querySelector('#df-0ec0a30e-7eb8-4641-9bff-6191bd42820d button.colab-df-convert');\n",
              "        buttonEl.style.display =\n",
              "          google.colab.kernel.accessAllowed ? 'block' : 'none';\n",
              "\n",
              "        async function convertToInteractive(key) {\n",
              "          const element = document.querySelector('#df-0ec0a30e-7eb8-4641-9bff-6191bd42820d');\n",
              "          const dataTable =\n",
              "            await google.colab.kernel.invokeFunction('convertToInteractive',\n",
              "                                                     [key], {});\n",
              "          if (!dataTable) return;\n",
              "\n",
              "          const docLinkHtml = 'Like what you see? Visit the ' +\n",
              "            '<a target=\"_blank\" href=https://colab.research.google.com/notebooks/data_table.ipynb>data table notebook</a>'\n",
              "            + ' to learn more about interactive tables.';\n",
              "          element.innerHTML = '';\n",
              "          dataTable['output_type'] = 'display_data';\n",
              "          await google.colab.output.renderOutput(dataTable, element);\n",
              "          const docLink = document.createElement('div');\n",
              "          docLink.innerHTML = docLinkHtml;\n",
              "          element.appendChild(docLink);\n",
              "        }\n",
              "      </script>\n",
              "    </div>\n",
              "  </div>\n",
              "  "
            ]
          },
          "metadata": {},
          "execution_count": 6
        }
      ]
    },
    {
      "cell_type": "code",
      "source": [
        "df"
      ],
      "metadata": {
        "id": "Y9NBKeSmzslJ",
        "colab": {
          "base_uri": "https://localhost:8080/",
          "height": 423
        },
        "outputId": "9b1c9d58-f76e-4cd7-f480-256488d2482b"
      },
      "execution_count": null,
      "outputs": [
        {
          "output_type": "execute_result",
          "data": {
            "text/plain": [
              "               date     open     high      low    close          wap  shares  \\\n",
              "0      8-April-2022  3172.85  3219.00  3150.70  3206.70  3190.305220   63125   \n",
              "1      7-April-2022  3145.40  3208.95  3145.40  3155.30  3174.126443  113031   \n",
              "2      6-April-2022  3139.60  3165.00  3112.55  3155.05  3144.289330   47496   \n",
              "3      5-April-2022  3116.00  3157.25  3080.80  3139.60  3140.860434   48658   \n",
              "4      4-April-2022  3147.00  3147.00  3092.60  3117.65  3118.713192   60368   \n",
              "...             ...      ...      ...      ...      ...          ...     ...   \n",
              "1971  17-April-2014   535.00   545.45   533.85   543.60   540.104629   50961   \n",
              "1972  16-April-2014   535.90   538.50   533.00   534.55   535.380639   32653   \n",
              "1973  15-April-2014   543.75   544.00   531.10   534.80   535.949555   39370   \n",
              "1974  11-April-2014   540.10   544.95   536.00   541.95   541.192761   48599   \n",
              "1975  10-April-2014   543.15   549.65   539.50   541.30   545.036357   52369   \n",
              "\n",
              "      trades     turnover  deliQty  deliQtyToTradedQty  highLowSpread  \\\n",
              "0       8976  201388017.0  34502.0               54.66          68.30   \n",
              "1      10464  358774686.0  55258.0               48.89          63.55   \n",
              "2       4958  149341166.0  25788.0               54.30          52.45   \n",
              "3       3918  152827987.0  29864.0               61.38          76.45   \n",
              "4      10156  188270478.0  34489.0               57.13          54.40   \n",
              "...      ...          ...      ...                 ...            ...   \n",
              "1971    2854   27524272.0  14116.0               27.70          11.60   \n",
              "1972    1832   17481784.0   5925.0               18.15           5.50   \n",
              "1973    1988   21100334.0   9900.0               25.15          12.90   \n",
              "1974    2619   26301427.0  13314.0               27.40           8.95   \n",
              "1975    2907   28543009.0  15817.0               30.20          10.15   \n",
              "\n",
              "      closeOpenSpread  \n",
              "0               33.85  \n",
              "1                9.90  \n",
              "2               15.45  \n",
              "3               23.60  \n",
              "4              -29.35  \n",
              "...               ...  \n",
              "1971             8.60  \n",
              "1972            -1.35  \n",
              "1973            -8.95  \n",
              "1974             1.85  \n",
              "1975            -1.85  \n",
              "\n",
              "[1976 rows x 13 columns]"
            ],
            "text/html": [
              "\n",
              "  <div id=\"df-4726ae16-8a43-4e62-83d6-3f4e7fea7d16\">\n",
              "    <div class=\"colab-df-container\">\n",
              "      <div>\n",
              "<style scoped>\n",
              "    .dataframe tbody tr th:only-of-type {\n",
              "        vertical-align: middle;\n",
              "    }\n",
              "\n",
              "    .dataframe tbody tr th {\n",
              "        vertical-align: top;\n",
              "    }\n",
              "\n",
              "    .dataframe thead th {\n",
              "        text-align: right;\n",
              "    }\n",
              "</style>\n",
              "<table border=\"1\" class=\"dataframe\">\n",
              "  <thead>\n",
              "    <tr style=\"text-align: right;\">\n",
              "      <th></th>\n",
              "      <th>date</th>\n",
              "      <th>open</th>\n",
              "      <th>high</th>\n",
              "      <th>low</th>\n",
              "      <th>close</th>\n",
              "      <th>wap</th>\n",
              "      <th>shares</th>\n",
              "      <th>trades</th>\n",
              "      <th>turnover</th>\n",
              "      <th>deliQty</th>\n",
              "      <th>deliQtyToTradedQty</th>\n",
              "      <th>highLowSpread</th>\n",
              "      <th>closeOpenSpread</th>\n",
              "    </tr>\n",
              "  </thead>\n",
              "  <tbody>\n",
              "    <tr>\n",
              "      <th>0</th>\n",
              "      <td>8-April-2022</td>\n",
              "      <td>3172.85</td>\n",
              "      <td>3219.00</td>\n",
              "      <td>3150.70</td>\n",
              "      <td>3206.70</td>\n",
              "      <td>3190.305220</td>\n",
              "      <td>63125</td>\n",
              "      <td>8976</td>\n",
              "      <td>201388017.0</td>\n",
              "      <td>34502.0</td>\n",
              "      <td>54.66</td>\n",
              "      <td>68.30</td>\n",
              "      <td>33.85</td>\n",
              "    </tr>\n",
              "    <tr>\n",
              "      <th>1</th>\n",
              "      <td>7-April-2022</td>\n",
              "      <td>3145.40</td>\n",
              "      <td>3208.95</td>\n",
              "      <td>3145.40</td>\n",
              "      <td>3155.30</td>\n",
              "      <td>3174.126443</td>\n",
              "      <td>113031</td>\n",
              "      <td>10464</td>\n",
              "      <td>358774686.0</td>\n",
              "      <td>55258.0</td>\n",
              "      <td>48.89</td>\n",
              "      <td>63.55</td>\n",
              "      <td>9.90</td>\n",
              "    </tr>\n",
              "    <tr>\n",
              "      <th>2</th>\n",
              "      <td>6-April-2022</td>\n",
              "      <td>3139.60</td>\n",
              "      <td>3165.00</td>\n",
              "      <td>3112.55</td>\n",
              "      <td>3155.05</td>\n",
              "      <td>3144.289330</td>\n",
              "      <td>47496</td>\n",
              "      <td>4958</td>\n",
              "      <td>149341166.0</td>\n",
              "      <td>25788.0</td>\n",
              "      <td>54.30</td>\n",
              "      <td>52.45</td>\n",
              "      <td>15.45</td>\n",
              "    </tr>\n",
              "    <tr>\n",
              "      <th>3</th>\n",
              "      <td>5-April-2022</td>\n",
              "      <td>3116.00</td>\n",
              "      <td>3157.25</td>\n",
              "      <td>3080.80</td>\n",
              "      <td>3139.60</td>\n",
              "      <td>3140.860434</td>\n",
              "      <td>48658</td>\n",
              "      <td>3918</td>\n",
              "      <td>152827987.0</td>\n",
              "      <td>29864.0</td>\n",
              "      <td>61.38</td>\n",
              "      <td>76.45</td>\n",
              "      <td>23.60</td>\n",
              "    </tr>\n",
              "    <tr>\n",
              "      <th>4</th>\n",
              "      <td>4-April-2022</td>\n",
              "      <td>3147.00</td>\n",
              "      <td>3147.00</td>\n",
              "      <td>3092.60</td>\n",
              "      <td>3117.65</td>\n",
              "      <td>3118.713192</td>\n",
              "      <td>60368</td>\n",
              "      <td>10156</td>\n",
              "      <td>188270478.0</td>\n",
              "      <td>34489.0</td>\n",
              "      <td>57.13</td>\n",
              "      <td>54.40</td>\n",
              "      <td>-29.35</td>\n",
              "    </tr>\n",
              "    <tr>\n",
              "      <th>...</th>\n",
              "      <td>...</td>\n",
              "      <td>...</td>\n",
              "      <td>...</td>\n",
              "      <td>...</td>\n",
              "      <td>...</td>\n",
              "      <td>...</td>\n",
              "      <td>...</td>\n",
              "      <td>...</td>\n",
              "      <td>...</td>\n",
              "      <td>...</td>\n",
              "      <td>...</td>\n",
              "      <td>...</td>\n",
              "      <td>...</td>\n",
              "    </tr>\n",
              "    <tr>\n",
              "      <th>1971</th>\n",
              "      <td>17-April-2014</td>\n",
              "      <td>535.00</td>\n",
              "      <td>545.45</td>\n",
              "      <td>533.85</td>\n",
              "      <td>543.60</td>\n",
              "      <td>540.104629</td>\n",
              "      <td>50961</td>\n",
              "      <td>2854</td>\n",
              "      <td>27524272.0</td>\n",
              "      <td>14116.0</td>\n",
              "      <td>27.70</td>\n",
              "      <td>11.60</td>\n",
              "      <td>8.60</td>\n",
              "    </tr>\n",
              "    <tr>\n",
              "      <th>1972</th>\n",
              "      <td>16-April-2014</td>\n",
              "      <td>535.90</td>\n",
              "      <td>538.50</td>\n",
              "      <td>533.00</td>\n",
              "      <td>534.55</td>\n",
              "      <td>535.380639</td>\n",
              "      <td>32653</td>\n",
              "      <td>1832</td>\n",
              "      <td>17481784.0</td>\n",
              "      <td>5925.0</td>\n",
              "      <td>18.15</td>\n",
              "      <td>5.50</td>\n",
              "      <td>-1.35</td>\n",
              "    </tr>\n",
              "    <tr>\n",
              "      <th>1973</th>\n",
              "      <td>15-April-2014</td>\n",
              "      <td>543.75</td>\n",
              "      <td>544.00</td>\n",
              "      <td>531.10</td>\n",
              "      <td>534.80</td>\n",
              "      <td>535.949555</td>\n",
              "      <td>39370</td>\n",
              "      <td>1988</td>\n",
              "      <td>21100334.0</td>\n",
              "      <td>9900.0</td>\n",
              "      <td>25.15</td>\n",
              "      <td>12.90</td>\n",
              "      <td>-8.95</td>\n",
              "    </tr>\n",
              "    <tr>\n",
              "      <th>1974</th>\n",
              "      <td>11-April-2014</td>\n",
              "      <td>540.10</td>\n",
              "      <td>544.95</td>\n",
              "      <td>536.00</td>\n",
              "      <td>541.95</td>\n",
              "      <td>541.192761</td>\n",
              "      <td>48599</td>\n",
              "      <td>2619</td>\n",
              "      <td>26301427.0</td>\n",
              "      <td>13314.0</td>\n",
              "      <td>27.40</td>\n",
              "      <td>8.95</td>\n",
              "      <td>1.85</td>\n",
              "    </tr>\n",
              "    <tr>\n",
              "      <th>1975</th>\n",
              "      <td>10-April-2014</td>\n",
              "      <td>543.15</td>\n",
              "      <td>549.65</td>\n",
              "      <td>539.50</td>\n",
              "      <td>541.30</td>\n",
              "      <td>545.036357</td>\n",
              "      <td>52369</td>\n",
              "      <td>2907</td>\n",
              "      <td>28543009.0</td>\n",
              "      <td>15817.0</td>\n",
              "      <td>30.20</td>\n",
              "      <td>10.15</td>\n",
              "      <td>-1.85</td>\n",
              "    </tr>\n",
              "  </tbody>\n",
              "</table>\n",
              "<p>1976 rows × 13 columns</p>\n",
              "</div>\n",
              "      <button class=\"colab-df-convert\" onclick=\"convertToInteractive('df-4726ae16-8a43-4e62-83d6-3f4e7fea7d16')\"\n",
              "              title=\"Convert this dataframe to an interactive table.\"\n",
              "              style=\"display:none;\">\n",
              "        \n",
              "  <svg xmlns=\"http://www.w3.org/2000/svg\" height=\"24px\"viewBox=\"0 0 24 24\"\n",
              "       width=\"24px\">\n",
              "    <path d=\"M0 0h24v24H0V0z\" fill=\"none\"/>\n",
              "    <path d=\"M18.56 5.44l.94 2.06.94-2.06 2.06-.94-2.06-.94-.94-2.06-.94 2.06-2.06.94zm-11 1L8.5 8.5l.94-2.06 2.06-.94-2.06-.94L8.5 2.5l-.94 2.06-2.06.94zm10 10l.94 2.06.94-2.06 2.06-.94-2.06-.94-.94-2.06-.94 2.06-2.06.94z\"/><path d=\"M17.41 7.96l-1.37-1.37c-.4-.4-.92-.59-1.43-.59-.52 0-1.04.2-1.43.59L10.3 9.45l-7.72 7.72c-.78.78-.78 2.05 0 2.83L4 21.41c.39.39.9.59 1.41.59.51 0 1.02-.2 1.41-.59l7.78-7.78 2.81-2.81c.8-.78.8-2.07 0-2.86zM5.41 20L4 18.59l7.72-7.72 1.47 1.35L5.41 20z\"/>\n",
              "  </svg>\n",
              "      </button>\n",
              "      \n",
              "  <style>\n",
              "    .colab-df-container {\n",
              "      display:flex;\n",
              "      flex-wrap:wrap;\n",
              "      gap: 12px;\n",
              "    }\n",
              "\n",
              "    .colab-df-convert {\n",
              "      background-color: #E8F0FE;\n",
              "      border: none;\n",
              "      border-radius: 50%;\n",
              "      cursor: pointer;\n",
              "      display: none;\n",
              "      fill: #1967D2;\n",
              "      height: 32px;\n",
              "      padding: 0 0 0 0;\n",
              "      width: 32px;\n",
              "    }\n",
              "\n",
              "    .colab-df-convert:hover {\n",
              "      background-color: #E2EBFA;\n",
              "      box-shadow: 0px 1px 2px rgba(60, 64, 67, 0.3), 0px 1px 3px 1px rgba(60, 64, 67, 0.15);\n",
              "      fill: #174EA6;\n",
              "    }\n",
              "\n",
              "    [theme=dark] .colab-df-convert {\n",
              "      background-color: #3B4455;\n",
              "      fill: #D2E3FC;\n",
              "    }\n",
              "\n",
              "    [theme=dark] .colab-df-convert:hover {\n",
              "      background-color: #434B5C;\n",
              "      box-shadow: 0px 1px 3px 1px rgba(0, 0, 0, 0.15);\n",
              "      filter: drop-shadow(0px 1px 2px rgba(0, 0, 0, 0.3));\n",
              "      fill: #FFFFFF;\n",
              "    }\n",
              "  </style>\n",
              "\n",
              "      <script>\n",
              "        const buttonEl =\n",
              "          document.querySelector('#df-4726ae16-8a43-4e62-83d6-3f4e7fea7d16 button.colab-df-convert');\n",
              "        buttonEl.style.display =\n",
              "          google.colab.kernel.accessAllowed ? 'block' : 'none';\n",
              "\n",
              "        async function convertToInteractive(key) {\n",
              "          const element = document.querySelector('#df-4726ae16-8a43-4e62-83d6-3f4e7fea7d16');\n",
              "          const dataTable =\n",
              "            await google.colab.kernel.invokeFunction('convertToInteractive',\n",
              "                                                     [key], {});\n",
              "          if (!dataTable) return;\n",
              "\n",
              "          const docLinkHtml = 'Like what you see? Visit the ' +\n",
              "            '<a target=\"_blank\" href=https://colab.research.google.com/notebooks/data_table.ipynb>data table notebook</a>'\n",
              "            + ' to learn more about interactive tables.';\n",
              "          element.innerHTML = '';\n",
              "          dataTable['output_type'] = 'display_data';\n",
              "          await google.colab.output.renderOutput(dataTable, element);\n",
              "          const docLink = document.createElement('div');\n",
              "          docLink.innerHTML = docLinkHtml;\n",
              "          element.appendChild(docLink);\n",
              "        }\n",
              "      </script>\n",
              "    </div>\n",
              "  </div>\n",
              "  "
            ]
          },
          "metadata": {},
          "execution_count": 7
        }
      ]
    },
    {
      "cell_type": "code",
      "source": [
        "df = df[::-1]\n",
        "df = df['close'].values\n",
        "df = df.reshape(-1, 1)"
      ],
      "metadata": {
        "id": "ky1R18uVG0NA"
      },
      "execution_count": null,
      "outputs": []
    },
    {
      "cell_type": "code",
      "source": [
        "print(df.shape)"
      ],
      "metadata": {
        "colab": {
          "base_uri": "https://localhost:8080/"
        },
        "id": "Oq5XTX1-HOnE",
        "outputId": "bd33b653-7ebc-4d04-8003-1c32c5c1b70d"
      },
      "execution_count": null,
      "outputs": [
        {
          "output_type": "stream",
          "name": "stdout",
          "text": [
            "(1976, 1)\n"
          ]
        }
      ]
    },
    {
      "cell_type": "code",
      "source": [
        "df"
      ],
      "metadata": {
        "colab": {
          "base_uri": "https://localhost:8080/"
        },
        "id": "3dQxap-nHhxZ",
        "outputId": "06dcad17-7bed-4473-d90b-8aadcdc09f3b"
      },
      "execution_count": null,
      "outputs": [
        {
          "output_type": "execute_result",
          "data": {
            "text/plain": [
              "array([[ 541.3 ],\n",
              "       [ 541.95],\n",
              "       [ 534.8 ],\n",
              "       ...,\n",
              "       [3155.05],\n",
              "       [3155.3 ],\n",
              "       [3206.7 ]])"
            ]
          },
          "metadata": {},
          "execution_count": 10
        }
      ]
    },
    {
      "cell_type": "code",
      "source": [
        "dataset_train = np.array(df[:int(df.shape[0]*0.8)])\n",
        "dataset_test = np.array(df[int(df.shape[0]*0.8)-50:])\n",
        "print(dataset_train.shape)\n",
        "print(dataset_test.shape)"
      ],
      "metadata": {
        "colab": {
          "base_uri": "https://localhost:8080/"
        },
        "id": "Wa2eb18gHkVy",
        "outputId": "a5b5bf3e-0982-4efe-d7a1-49f98392de80"
      },
      "execution_count": null,
      "outputs": [
        {
          "output_type": "stream",
          "name": "stdout",
          "text": [
            "(1580, 1)\n",
            "(446, 1)\n"
          ]
        }
      ]
    },
    {
      "cell_type": "code",
      "source": [
        "scaler = MinMaxScaler(feature_range=(0,1))\n",
        "dataset_train = scaler.fit_transform(dataset_train)\n",
        "dataset_train[:5]"
      ],
      "metadata": {
        "colab": {
          "base_uri": "https://localhost:8080/"
        },
        "id": "36q10MC1Hn4z",
        "outputId": "535d1627-ae5c-4923-e37c-6117cc658aa1"
      },
      "execution_count": null,
      "outputs": [
        {
          "output_type": "execute_result",
          "data": {
            "text/plain": [
              "array([[0.02861516],\n",
              "       [0.02904771],\n",
              "       [0.02428961],\n",
              "       [0.02412324],\n",
              "       [0.03014574]])"
            ]
          },
          "metadata": {},
          "execution_count": 12
        }
      ]
    },
    {
      "cell_type": "code",
      "source": [
        "dataset_test = scaler.transform(dataset_test)\n",
        "dataset_test[:5]"
      ],
      "metadata": {
        "colab": {
          "base_uri": "https://localhost:8080/"
        },
        "id": "ELNFb6jsHqni",
        "outputId": "79ef3501-c3c5-463b-922f-647d0a64935f"
      },
      "execution_count": null,
      "outputs": [
        {
          "output_type": "execute_result",
          "data": {
            "text/plain": [
              "array([[0.79433686],\n",
              "       [0.7912757 ],\n",
              "       [0.79177481],\n",
              "       [0.79084315],\n",
              "       [0.79709856]])"
            ]
          },
          "metadata": {},
          "execution_count": 13
        }
      ]
    },
    {
      "cell_type": "code",
      "source": [
        "def create_dataset(df):\n",
        "    x = []\n",
        "    y = []\n",
        "    for i in range(50, df.shape[0]):\n",
        "        x.append(df[i-50:i, 0])\n",
        "        y.append(df[i, 0])\n",
        "    x = np.array(x)\n",
        "    y = np.array(y)\n",
        "    return x,y "
      ],
      "metadata": {
        "id": "85nJFAcjHsOq"
      },
      "execution_count": null,
      "outputs": []
    },
    {
      "cell_type": "code",
      "source": [
        "x_train, y_train = create_dataset(dataset_train)\n",
        "x_train[:1]"
      ],
      "metadata": {
        "colab": {
          "base_uri": "https://localhost:8080/"
        },
        "id": "ueRMqn1nHtZ7",
        "outputId": "33e1f9ba-a993-49a4-fc12-d1084752442b"
      },
      "execution_count": null,
      "outputs": [
        {
          "output_type": "execute_result",
          "data": {
            "text/plain": [
              "array([[0.02861516, 0.02904771, 0.02428961, 0.02412324, 0.03014574,\n",
              "        0.02751714, 0.02532109, 0.02082917, 0.01111333, 0.00179677,\n",
              "        0.        , 0.00455846, 0.0075198 , 0.01344247, 0.01094696,\n",
              "        0.00535702, 0.00379317, 0.01493978, 0.02528782, 0.02721767,\n",
              "        0.03902975, 0.02089572, 0.02535436, 0.01996406, 0.02046317,\n",
              "        0.03117721, 0.0261862 , 0.02698476, 0.01743528, 0.0159047 ,\n",
              "        0.00918347, 0.00562321, 0.00741998, 0.00771944, 0.00732016,\n",
              "        0.00718706, 0.00828509, 0.00535702, 0.02003061, 0.02485526,\n",
              "        0.02898117, 0.03300725, 0.02804951, 0.02751714, 0.04085979,\n",
              "        0.0384641 , 0.04611699, 0.04548479, 0.04944433, 0.0533706 ]])"
            ]
          },
          "metadata": {},
          "execution_count": 15
        }
      ]
    },
    {
      "cell_type": "code",
      "source": [
        "x_test, y_test = create_dataset(dataset_test)\n",
        "x_test[:1]"
      ],
      "metadata": {
        "colab": {
          "base_uri": "https://localhost:8080/"
        },
        "id": "25NMd8LWHuyu",
        "outputId": "455f712b-4045-40a4-f6ae-0305f44a999a"
      },
      "execution_count": null,
      "outputs": [
        {
          "output_type": "execute_result",
          "data": {
            "text/plain": [
              "array([[0.79433686, 0.7912757 , 0.79177481, 0.79084315, 0.79709856,\n",
              "        0.80525055, 0.82993944, 0.7907766 , 0.81087376, 0.80172356,\n",
              "        0.80345378, 0.79200772, 0.78059493, 0.79480269, 0.81163905,\n",
              "        0.83426499, 0.81539895, 0.79799694, 0.81792773, 0.80698077,\n",
              "        0.85143409, 0.83935583, 0.82461569, 0.82837559, 0.81077394,\n",
              "        0.80298796, 0.80921009, 0.81110667, 0.81849338, 0.86960138,\n",
              "        0.85456179, 0.85928662, 0.86407799, 0.86767152, 0.86730552,\n",
              "        0.89009782, 0.91521927, 0.92327144, 0.9163173 , 0.97161775,\n",
              "        0.97487855, 1.        , 0.98006921, 0.98735609, 0.9711852 ,\n",
              "        0.93505024, 0.98482731, 0.96339921, 0.98499368, 0.9700539 ]])"
            ]
          },
          "metadata": {},
          "execution_count": 16
        }
      ]
    },
    {
      "cell_type": "code",
      "source": [
        "# Reshape features for LSTM Layer\n",
        "x_train = np.reshape(x_train, (x_train.shape[0], x_train.shape[1], 1))\n",
        "x_test = np.reshape(x_test, (x_test.shape[0], x_test.shape[1], 1))"
      ],
      "metadata": {
        "id": "QWjiR_kQHwJA"
      },
      "execution_count": null,
      "outputs": []
    },
    {
      "cell_type": "code",
      "source": [
        "model = Sequential()\n",
        "model.add(LSTM(units=96, return_sequences=True, input_shape=(x_train.shape[1], 1)))\n",
        "model.add(Dropout(0.2))\n",
        "model.add(LSTM(units=96, return_sequences=True))\n",
        "model.add(Dropout(0.2))\n",
        "model.add(LSTM(units=96, return_sequences=True))\n",
        "model.add(Dropout(0.2))\n",
        "model.add(LSTM(units=96))\n",
        "model.add(Dropout(0.2))\n",
        "model.add(Dense(units=1))"
      ],
      "metadata": {
        "id": "_oV6mDZPHx5A"
      },
      "execution_count": null,
      "outputs": []
    },
    {
      "cell_type": "code",
      "source": [
        "model.compile(loss='mean_squared_error', optimizer='adam')"
      ],
      "metadata": {
        "id": "QXZnLKsVHz4P"
      },
      "execution_count": null,
      "outputs": []
    },
    {
      "cell_type": "code",
      "source": [
        "if(not os.path.exists('stock_prediction.h5')):\n",
        "    model.fit(x_train, y_train, epochs=50, batch_size=32)\n",
        "    model.save('stock_prediction.h5')"
      ],
      "metadata": {
        "id": "SpF104L6H10W",
        "colab": {
          "base_uri": "https://localhost:8080/"
        },
        "outputId": "2b5b54c5-476b-45ce-8bf4-1638d46d5b57"
      },
      "execution_count": null,
      "outputs": [
        {
          "output_type": "stream",
          "name": "stdout",
          "text": [
            "Epoch 1/50\n",
            "48/48 [==============================] - 17s 173ms/step - loss: 0.0293\n",
            "Epoch 2/50\n",
            "48/48 [==============================] - 9s 195ms/step - loss: 0.0038\n",
            "Epoch 3/50\n",
            "48/48 [==============================] - 8s 173ms/step - loss: 0.0037\n",
            "Epoch 4/50\n",
            "48/48 [==============================] - 8s 173ms/step - loss: 0.0027\n",
            "Epoch 5/50\n",
            "48/48 [==============================] - 8s 173ms/step - loss: 0.0034\n",
            "Epoch 6/50\n",
            "48/48 [==============================] - 8s 174ms/step - loss: 0.0030\n",
            "Epoch 7/50\n",
            "48/48 [==============================] - 8s 175ms/step - loss: 0.0029\n",
            "Epoch 8/50\n",
            "48/48 [==============================] - 8s 173ms/step - loss: 0.0028\n",
            "Epoch 9/50\n",
            "48/48 [==============================] - 15s 311ms/step - loss: 0.0025\n",
            "Epoch 10/50\n",
            "48/48 [==============================] - 13s 265ms/step - loss: 0.0024\n",
            "Epoch 11/50\n",
            "48/48 [==============================] - 8s 174ms/step - loss: 0.0027\n",
            "Epoch 12/50\n",
            "48/48 [==============================] - 8s 172ms/step - loss: 0.0024\n",
            "Epoch 13/50\n",
            "48/48 [==============================] - 8s 176ms/step - loss: 0.0023\n",
            "Epoch 14/50\n",
            "48/48 [==============================] - 8s 175ms/step - loss: 0.0025\n",
            "Epoch 15/50\n",
            "48/48 [==============================] - 8s 173ms/step - loss: 0.0023\n",
            "Epoch 16/50\n",
            "48/48 [==============================] - 8s 173ms/step - loss: 0.0021\n",
            "Epoch 17/50\n",
            "48/48 [==============================] - 8s 173ms/step - loss: 0.0021\n",
            "Epoch 18/50\n",
            "48/48 [==============================] - 8s 174ms/step - loss: 0.0021\n",
            "Epoch 19/50\n",
            "48/48 [==============================] - 8s 174ms/step - loss: 0.0020\n",
            "Epoch 20/50\n",
            "48/48 [==============================] - 10s 203ms/step - loss: 0.0024\n",
            "Epoch 21/50\n",
            "48/48 [==============================] - 8s 173ms/step - loss: 0.0020\n",
            "Epoch 22/50\n",
            "48/48 [==============================] - 9s 182ms/step - loss: 0.0018\n",
            "Epoch 23/50\n",
            "48/48 [==============================] - 9s 176ms/step - loss: 0.0019\n",
            "Epoch 24/50\n",
            "48/48 [==============================] - 8s 172ms/step - loss: 0.0016\n",
            "Epoch 25/50\n",
            "48/48 [==============================] - 8s 174ms/step - loss: 0.0018\n",
            "Epoch 26/50\n",
            "48/48 [==============================] - 8s 172ms/step - loss: 0.0016\n",
            "Epoch 27/50\n",
            "48/48 [==============================] - 15s 311ms/step - loss: 0.0016\n",
            "Epoch 28/50\n",
            "48/48 [==============================] - 8s 173ms/step - loss: 0.0018\n",
            "Epoch 29/50\n",
            "48/48 [==============================] - 8s 174ms/step - loss: 0.0017\n",
            "Epoch 30/50\n",
            "48/48 [==============================] - 8s 177ms/step - loss: 0.0017\n",
            "Epoch 31/50\n",
            "48/48 [==============================] - 8s 174ms/step - loss: 0.0015\n",
            "Epoch 32/50\n",
            "48/48 [==============================] - 8s 174ms/step - loss: 0.0015\n",
            "Epoch 33/50\n",
            "48/48 [==============================] - 8s 174ms/step - loss: 0.0015\n",
            "Epoch 34/50\n",
            "48/48 [==============================] - 8s 175ms/step - loss: 0.0013\n",
            "Epoch 35/50\n",
            "48/48 [==============================] - 8s 174ms/step - loss: 0.0015\n",
            "Epoch 36/50\n",
            "48/48 [==============================] - 8s 173ms/step - loss: 0.0013\n",
            "Epoch 37/50\n",
            "48/48 [==============================] - 8s 175ms/step - loss: 0.0013\n",
            "Epoch 38/50\n",
            "48/48 [==============================] - 8s 174ms/step - loss: 0.0012\n",
            "Epoch 39/50\n",
            "48/48 [==============================] - 9s 186ms/step - loss: 0.0014\n",
            "Epoch 40/50\n",
            "48/48 [==============================] - 8s 176ms/step - loss: 0.0014\n",
            "Epoch 41/50\n",
            "48/48 [==============================] - 8s 177ms/step - loss: 0.0014\n",
            "Epoch 42/50\n",
            "48/48 [==============================] - 8s 174ms/step - loss: 0.0014\n",
            "Epoch 43/50\n",
            "48/48 [==============================] - 8s 174ms/step - loss: 0.0013\n",
            "Epoch 44/50\n",
            "48/48 [==============================] - 9s 178ms/step - loss: 0.0012\n",
            "Epoch 45/50\n",
            "48/48 [==============================] - 8s 176ms/step - loss: 0.0012\n",
            "Epoch 46/50\n",
            "48/48 [==============================] - 8s 175ms/step - loss: 0.0013\n",
            "Epoch 47/50\n",
            "48/48 [==============================] - 8s 176ms/step - loss: 0.0012\n",
            "Epoch 48/50\n",
            "48/48 [==============================] - 8s 175ms/step - loss: 0.0012\n",
            "Epoch 49/50\n",
            "48/48 [==============================] - 8s 176ms/step - loss: 0.0011\n",
            "Epoch 50/50\n",
            "48/48 [==============================] - 8s 176ms/step - loss: 9.8204e-04\n"
          ]
        }
      ]
    },
    {
      "cell_type": "code",
      "source": [
        "model.summary()"
      ],
      "metadata": {
        "colab": {
          "base_uri": "https://localhost:8080/"
        },
        "id": "IU2d3q8btbZ4",
        "outputId": "a3ec0bf6-b22a-45ef-c8b1-830f27c41dad"
      },
      "execution_count": null,
      "outputs": [
        {
          "output_type": "stream",
          "name": "stdout",
          "text": [
            "Model: \"sequential\"\n",
            "_________________________________________________________________\n",
            " Layer (type)                Output Shape              Param #   \n",
            "=================================================================\n",
            " lstm (LSTM)                 (None, 50, 96)            37632     \n",
            "                                                                 \n",
            " dropout (Dropout)           (None, 50, 96)            0         \n",
            "                                                                 \n",
            " lstm_1 (LSTM)               (None, 50, 96)            74112     \n",
            "                                                                 \n",
            " dropout_1 (Dropout)         (None, 50, 96)            0         \n",
            "                                                                 \n",
            " lstm_2 (LSTM)               (None, 50, 96)            74112     \n",
            "                                                                 \n",
            " dropout_2 (Dropout)         (None, 50, 96)            0         \n",
            "                                                                 \n",
            " lstm_3 (LSTM)               (None, 96)                74112     \n",
            "                                                                 \n",
            " dropout_3 (Dropout)         (None, 96)                0         \n",
            "                                                                 \n",
            " dense (Dense)               (None, 1)                 97        \n",
            "                                                                 \n",
            "=================================================================\n",
            "Total params: 260,065\n",
            "Trainable params: 260,065\n",
            "Non-trainable params: 0\n",
            "_________________________________________________________________\n"
          ]
        }
      ]
    },
    {
      "cell_type": "code",
      "source": [
        "model = load_model('stock_prediction.h5')"
      ],
      "metadata": {
        "id": "14lrfWIxH3jS"
      },
      "execution_count": null,
      "outputs": []
    },
    {
      "cell_type": "code",
      "source": [
        "predictions = model.predict(x_test)\n",
        "predictions = scaler.inverse_transform(predictions)\n",
        "\n",
        "fig, ax = plt.subplots(figsize=(8,4))\n",
        "plt.plot(df, color='red',  label=\"True Price\")\n",
        "ax.plot(range(len(y_train)+50,len(y_train)+50+len(predictions)),predictions, color='blue', label='Predicted Testing Price')\n",
        "plt.legend()"
      ],
      "metadata": {
        "id": "P6r_YKngJzjk",
        "colab": {
          "base_uri": "https://localhost:8080/",
          "height": 282
        },
        "outputId": "f9d85ed9-15d9-4aa1-d656-231bd0c3dc3c"
      },
      "execution_count": null,
      "outputs": [
        {
          "output_type": "execute_result",
          "data": {
            "text/plain": [
              "<matplotlib.legend.Legend at 0x7f3f7a772cd0>"
            ]
          },
          "metadata": {},
          "execution_count": 22
        },
        {
          "output_type": "display_data",
          "data": {
            "text/plain": [
              "<Figure size 576x288 with 1 Axes>"
            ],
            "image/png": "[encoded data removed]"
          },
          "metadata": {
            "needs_background": "light"
          }
        }
      ]
    },
    {
      "cell_type": "code",
      "source": [
        "y_test_scaled = scaler.inverse_transform(y_test.reshape(-1, 1))\n",
        "\n",
        "fig, ax = plt.subplots(figsize=(8,4))\n",
        "ax.plot(y_test_scaled, color='red', label='True Testing Price')\n",
        "plt.plot(predictions, color='blue', label='Predicted Testing Price')\n",
        "plt.legend()"
      ],
      "metadata": {
        "id": "h1j4JycRJ8F1",
        "colab": {
          "base_uri": "https://localhost:8080/",
          "height": 282
        },
        "outputId": "cef5d339-93e7-4e17-8b14-ba5fea26f8cb"
      },
      "execution_count": null,
      "outputs": [
        {
          "output_type": "execute_result",
          "data": {
            "text/plain": [
              "<matplotlib.legend.Legend at 0x7f3f7ab66450>"
            ]
          },
          "metadata": {},
          "execution_count": 23
        },
        {
          "output_type": "display_data",
          "data": {
            "text/plain": [
              "<Figure size 576x288 with 1 Axes>"
            ],
            "image/png": "[encoded data removed]"
          },
          "metadata": {
            "needs_background": "light"
          }
        }
      ]
    },
    {
      "cell_type": "code",
      "source": [
        "x = x_test[-1]\n",
        "num_timesteps = 100\n",
        "preds = []\n",
        "for i in range(num_timesteps):\n",
        "    data = np.expand_dims(x, axis=0)\n",
        "    prediction = model.predict(data)\n",
        "    prediction = scaler.inverse_transform(prediction)\n",
        "    preds.append(prediction[0][0])\n",
        "    x = np.delete(x, 0, axis=0) # delete first row\n",
        "    x = np.vstack([x, prediction]) # add prediction\n",
        "\n",
        "print(preds)"
      ],
      "metadata": {
        "id": "2xl7fn4rJ-9Q",
        "colab": {
          "base_uri": "https://localhost:8080/"
        },
        "outputId": "1c2c7bd1-a840-40d8-846e-0c9b97fd3543"
      },
      "execution_count": null,
      "outputs": [
        {
          "output_type": "stream",
          "name": "stdout",
          "text": [
            "[2907.2805, 4748.4814, 4947.214, 5056.102, 5087.272, 5106.612, 5116.791, 5123.31, 5127.428, 5130.101, 5131.809, 5132.8696, 5133.486, 5133.7954, 5133.898, 5133.8545, 5133.7163, 5133.5166, 5133.2793, 5133.0215, 5132.7573, 5132.497, 5132.244, 5132.01, 5131.7905, 5131.5913, 5131.4097, 5131.249, 5131.1123, 5131.005, 5130.941, 5130.912, 5130.915, 5130.9385, 5130.988, 5131.0835, 5131.2583, 5131.513, 5131.831, 5132.137, 5132.337, 5132.37, 5132.25, 5132.0615, 5131.8643, 5131.521, 5130.614, 5128.599, 5125.0073, 5119.5293, 5111.9873, 5111.9863, 5111.987, 5111.987, 5111.9863, 5111.9863, 5111.9863, 5111.9863, 5111.9863, 5111.986, 5111.986, 5111.9863, 5111.986, 5111.985, 5111.986, 5111.985, 5111.985, 5111.9854, 5111.985, 5111.985, 5111.985, 5111.985, 5111.985, 5111.985, 5111.985, 5111.985, 5111.9844, 5111.9844, 5111.9844, 5111.984, 5111.984, 5111.984, 5111.984, 5111.984, 5111.984, 5111.984, 5111.9844, 5111.984, 5111.9844, 5111.9844, 5111.9844, 5111.9844, 5111.9844, 5111.9844, 5111.9844, 5111.9844, 5111.9844, 5111.9844, 5111.9844, 5111.984]\n"
          ]
        }
      ]
    },
    {
      "cell_type": "code",
      "source": [
        "from sklearn.metrics import mean_squared_error, mean_absolute_error, mean_absolute_percentage_error"
      ],
      "metadata": {
        "id": "9xEQVRYsKDBO"
      },
      "execution_count": null,
      "outputs": []
    },
    {
      "cell_type": "code",
      "source": [
        "print('Mean Absolute Error:', mean_absolute_error(y_test_scaled, predictions))\n",
        "print('Mean Squared Error:', mean_squared_error(y_test_scaled, predictions))    \n",
        "print('Root Mean Squared Error:', np.sqrt(mean_squared_error(y_test_scaled, predictions)))\n",
        "print('Mean Absolute Percentage Error:', mean_absolute_percentage_error(y_test_scaled, predictions))"
      ],
      "metadata": {
        "id": "MhXmNQJ4KzIu",
        "colab": {
          "base_uri": "https://localhost:8080/"
        },
        "outputId": "df8b40fe-c4b2-4933-f2bc-d1b46e303c45"
      },
      "execution_count": null,
      "outputs": [
        {
          "output_type": "stream",
          "name": "stdout",
          "text": [
            "Mean Absolute Error: 148.614652134\n",
            "Mean Squared Error: 5147.01516732\n",
            "Root Mean Squared Error: 74.7413455\n",
            "Mean Absolute Percentage Error: 0.021056457553973125\n"
          ]
        }
      ]
    },
    {
      "cell_type": "markdown",
      "source": [
        "|Performance Metrics|Accuracy|\n",
        "|-----|-----|\n",
        "|Mean Squared Error|5147|\n",
        "|Root Mean Squared Error (RMSE):| 74.74|\n",
        "|Mean Absolute Percentage Error (MAPE):| 0.0210|\n",
        "|Mean Absolute Error :| 148.6|\n",
        "|R2 Score :| 0.935|"
      ],
      "metadata": {
        "id": "EBN4EhQlL9FE"
      }
    },
    {
      "cell_type": "code",
      "source": [
        "from sklearn.metrics import r2_score\n",
        "print(r2_score(y_test_scaled, predictions))"
      ],
      "metadata": {
        "id": "fgY4cDOMthTO",
        "colab": {
          "base_uri": "https://localhost:8080/"
        },
        "outputId": "01377852-b888-47d0-9bf0-12051a28cfa5"
      },
      "execution_count": null,
      "outputs": [
        {
          "output_type": "execute_result",
          "data": {
            "text/plain": [
              "0.9401964995950439"
            ]
          },
          "metadata": {},
          "execution_count": 30
        }
      ]
    },
    {
      "cell_type": "code",
      "source": [
        "from sklearn.metrics import explained_variance_score\n",
        "explained_variance_score(y_test_scaled, predictions)"
      ],
      "metadata": {
        "id": "MkcnCE5OtvB-",
        "colab": {
          "base_uri": "https://localhost:8080/"
        },
        "outputId": "cf5b6211-0edc-4558-fa00-cd890bf3b8fb"
      },
      "execution_count": null,
      "outputs": [
        {
          "output_type": "stream",
          "name": "stdout",
          "text": [
            "0.7737900907083645\n"
          ]
        }
      ]
    }
  ]
}